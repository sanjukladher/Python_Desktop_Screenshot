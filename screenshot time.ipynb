{
 "cells": [
  {
   "cell_type": "code",
   "execution_count": null,
   "id": "668731b8",
   "metadata": {},
   "outputs": [],
   "source": [
    "# Python program to take auto screenshots\n",
    "import time     \n",
    "import numpy as np  #pip install numpy \n",
    "import cv2          #pip install opencv-python\n",
    "import pyautogui    #pip install PyAutoGUI"
   ]
  },
  {
   "cell_type": "code",
   "execution_count": null,
   "id": "1ff768dc",
   "metadata": {},
   "outputs": [],
   "source": [
    "#start_time\n",
    "start_time = time.time()\n",
    "#Total seconds in One day \n",
    "one_day=60*60*24\n",
    "\n",
    "#loop to get Every 15 min screenshot till 24 hours\n",
    "while time.time() - start_time <=one_day:\n",
    "    \n",
    "    # take screenshot using pyautogui\n",
    "    image = pyautogui.screenshot()\n",
    "\n",
    "    # pyautogui takes in RGB we need to convert it to numpy array     \n",
    "    image = cv2.cvtColor(np.array(image),cv2.COLOR_RGB2BGR)\n",
    "\n",
    "    #current timestamp for unique file_name\n",
    "    date_string = str(time.strftime(\"%Y_%m_%d_%H_%M_%S\"))\n",
    "    \n",
    "    file=r'...\\screenshots\\image'+'_'+ date_string +'.png'\n",
    "\n",
    "    # writing it to the disk \n",
    "    cv2.imwrite(file, image)\n",
    "    \n",
    "    time.sleep(900) #15 minutes"
   ]
  }
 ],
 "metadata": {
  "kernelspec": {
   "display_name": "Python 3",
   "language": "python",
   "name": "python3"
  },
  "language_info": {
   "codemirror_mode": {
    "name": "ipython",
    "version": 3
   },
   "file_extension": ".py",
   "mimetype": "text/x-python",
   "name": "python",
   "nbconvert_exporter": "python",
   "pygments_lexer": "ipython3",
   "version": "3.8.8"
  }
 },
 "nbformat": 4,
 "nbformat_minor": 5
}
